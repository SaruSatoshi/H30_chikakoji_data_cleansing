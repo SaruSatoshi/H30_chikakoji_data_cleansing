{
 "cells": [
  {
   "cell_type": "markdown",
   "metadata": {},
   "source": [
    "# H３０地価公示csvデータに緯度・経度情報を付与する方法"
   ]
  },
  {
   "cell_type": "markdown",
   "metadata": {},
   "source": [
    "## Pandasをインポート"
   ]
  },
  {
   "cell_type": "code",
   "execution_count": 1,
   "metadata": {
    "collapsed": true
   },
   "outputs": [],
   "source": [
    "import pandas as pd"
   ]
  },
  {
   "cell_type": "markdown",
   "metadata": {},
   "source": [
    "## H３０地価公示データ（事前配布）を読み込む\n",
    "エンコーディングに注意"
   ]
  },
  {
   "cell_type": "code",
   "execution_count": 2,
   "metadata": {
    "collapsed": true
   },
   "outputs": [],
   "source": [
    "koji_30 = pd.read_csv(\"kouji30.csv\",header=0,encoding='Shift_JISx0213')"
   ]
  },
  {
   "cell_type": "markdown",
   "metadata": {},
   "source": [
    "## H３０地価公示データの概要を確認"
   ]
  },
  {
   "cell_type": "code",
   "execution_count": 3,
   "metadata": {},
   "outputs": [
    {
     "name": "stdout",
     "output_type": "stream",
     "text": [
      "<class 'pandas.core.frame.DataFrame'>\n",
      "RangeIndex: 25988 entries, 0 to 25987\n",
      "Data columns (total 56 columns):\n",
      "標準地番号（都道府県市区町村コード）    25988 non-null int64\n",
      "標準地番号（用途）             25988 non-null int64\n",
      "標準地番号（連番）             25988 non-null int64\n",
      "全国主要地点                25988 non-null int64\n",
      "連番（県単位）               25988 non-null int64\n",
      "都道府県名                 25988 non-null object\n",
      "市郡名                   25988 non-null object\n",
      "区町村名                  25988 non-null object\n",
      "地名                    25988 non-null object\n",
      "住居表示                  25988 non-null object\n",
      "所在並びに地番               25988 non-null object\n",
      "当年価格                  25988 non-null int64\n",
      "前年価格                  25988 non-null object\n",
      "対前年変動率（％）             25988 non-null object\n",
      "地積                    25988 non-null int64\n",
      "地積・内私道分               25988 non-null int64\n",
      "形状区分                  25988 non-null int64\n",
      "（比率）間口                25988 non-null int64\n",
      "（比率）奥行                25988 non-null int64\n",
      "利用区分                  25988 non-null int64\n",
      "構造                    25988 non-null int64\n",
      "（階層）地上                25988 non-null int64\n",
      "（階層）地下                25988 non-null int64\n",
      "前面道路区分                25988 non-null int64\n",
      "前面道路の方位区分             25988 non-null int64\n",
      "前面道路の幅員               25988 non-null int64\n",
      "前面道路の駅前区分             25988 non-null int64\n",
      "前面道路の舗装状況             25988 non-null int64\n",
      "側道方位区分                25988 non-null int64\n",
      "側道区分                  25988 non-null int64\n",
      "給排水状況（ガス）             25988 non-null int64\n",
      "給排水状況（水道）             25988 non-null int64\n",
      "給排水状況（下水道）            25988 non-null int64\n",
      "最寄り駅名                 25988 non-null object\n",
      "交通施設との近接区分            25988 non-null int64\n",
      "最寄り駅迄の道路距離            25988 non-null int64\n",
      "法規制・用途区分              25988 non-null int64\n",
      "法規制・高度地区              25988 non-null int64\n",
      "法規制・防火・準防火            25988 non-null int64\n",
      "法規制・建ペイ率              25988 non-null int64\n",
      "法規制・容積率               25988 non-null object\n",
      "法規制・森林法               25988 non-null int64\n",
      "法規制・公園法               25988 non-null int64\n",
      "予備                    25988 non-null object\n",
      "区域区分                  25988 non-null int64\n",
      "連番（全体）                25988 non-null int64\n",
      "対象年（和暦）               25988 non-null int64\n",
      "共通地点区分                25988 non-null int64\n",
      "半年前番号（都道府県市区町村コード）    25988 non-null int64\n",
      "半年前番号（用途）             25988 non-null int64\n",
      "半年前番号（連番）             25988 non-null int64\n",
      "半年前価格                 25988 non-null int64\n",
      "対半年前変動率（％）            25988 non-null float64\n",
      "利用の現況                 25988 non-null object\n",
      "周辺の土地の利用の現況           25988 non-null object\n",
      "予備.1                  25988 non-null object\n",
      "dtypes: float64(1), int64(41), object(14)\n",
      "memory usage: 11.1+ MB\n"
     ]
    }
   ],
   "source": [
    "koji_30.info()"
   ]
  },
  {
   "cell_type": "markdown",
   "metadata": {},
   "source": [
    "## H２９地価公示データ（国土数値情報）を読み込む\n",
    "エンコーディングに注意"
   ]
  },
  {
   "cell_type": "code",
   "execution_count": 4,
   "metadata": {
    "collapsed": true
   },
   "outputs": [],
   "source": [
    "koji_29 = pd.read_csv(\"L01-29P-2K.csv\",header=0,encoding='Shift_JISx0213')"
   ]
  },
  {
   "cell_type": "markdown",
   "metadata": {},
   "source": [
    "## H２９地価公示データの概要を確認"
   ]
  },
  {
   "cell_type": "code",
   "execution_count": 5,
   "metadata": {},
   "outputs": [
    {
     "name": "stdout",
     "output_type": "stream",
     "text": [
      "<class 'pandas.core.frame.DataFrame'>\n",
      "RangeIndex: 25988 entries, 0 to 25987\n",
      "Columns: 107 entries, 経度 to 属性移動Ｈ２９\n",
      "dtypes: bool(1), float64(2), int64(88), object(16)\n",
      "memory usage: 21.0+ MB\n"
     ]
    }
   ],
   "source": [
    "koji_29.info()"
   ]
  },
  {
   "cell_type": "markdown",
   "metadata": {},
   "source": [
    "## H３０地価公示データの列の余分な空白を削除"
   ]
  },
  {
   "cell_type": "code",
   "execution_count": 6,
   "metadata": {
    "collapsed": true
   },
   "outputs": [],
   "source": [
    "koji_30[\"都道府県名_1\"] = koji_30.都道府県名.str.strip()\n",
    "koji_30[\"市郡名_1\"] = koji_30.市郡名.str.strip()\n",
    "koji_30[\"区町村名_1\"] = koji_30.区町村名.str.strip()\n",
    "koji_30[\"住居表示_1\"] = koji_30.住居表示.str.strip()\n",
    "koji_30[\"所在並びに地番_1\"] = koji_30.所在並びに地番.str.strip()"
   ]
  },
  {
   "cell_type": "markdown",
   "metadata": {},
   "source": [
    "## H３０地価公示データでkey_1を作成（住居表示）"
   ]
  },
  {
   "cell_type": "code",
   "execution_count": 7,
   "metadata": {
    "collapsed": true
   },
   "outputs": [],
   "source": [
    "koji_30[\"key_1\"] = koji_30.都道府県名_1 + \"　\" + koji_30.市郡名_1 + koji_30.区町村名_1 + koji_30.住居表示_1"
   ]
  },
  {
   "cell_type": "markdown",
   "metadata": {},
   "source": [
    "## H３０地価公示データでkey_1を作成（所在地並びに地番）"
   ]
  },
  {
   "cell_type": "code",
   "execution_count": 8,
   "metadata": {
    "collapsed": true
   },
   "outputs": [],
   "source": [
    "koji_30[\"key_2\"] = koji_30.都道府県名_1 + \"　\" + koji_30.市郡名_1 + koji_30.区町村名_1 + koji_30.所在並びに地番_1"
   ]
  },
  {
   "cell_type": "markdown",
   "metadata": {},
   "source": [
    "## H３０のkey_1とH２９の住居表示をキーにしてマージ（merged_1)"
   ]
  },
  {
   "cell_type": "code",
   "execution_count": 9,
   "metadata": {
    "collapsed": true
   },
   "outputs": [],
   "source": [
    "merged_1 = pd.merge(koji_30, koji_29, left_on = \"key_1\", right_on = \"住居表示\")"
   ]
  },
  {
   "cell_type": "markdown",
   "metadata": {},
   "source": [
    "## merged_1の概要を表示"
   ]
  },
  {
   "cell_type": "code",
   "execution_count": 10,
   "metadata": {},
   "outputs": [
    {
     "name": "stdout",
     "output_type": "stream",
     "text": [
      "<class 'pandas.core.frame.DataFrame'>\n",
      "Int64Index: 11292 entries, 0 to 11291\n",
      "Columns: 170 entries, 標準地番号（都道府県市区町村コード） to 属性移動Ｈ２９\n",
      "dtypes: bool(1), float64(3), int64(129), object(37)\n",
      "memory usage: 14.7+ MB\n"
     ]
    }
   ],
   "source": [
    "merged_1.info()"
   ]
  },
  {
   "cell_type": "markdown",
   "metadata": {},
   "source": [
    "## H３０のkey_2とH２９の住居表示をキーにしてマージ（merged_2)"
   ]
  },
  {
   "cell_type": "code",
   "execution_count": 11,
   "metadata": {
    "collapsed": true
   },
   "outputs": [],
   "source": [
    "merged_2 = pd.merge(koji_30, koji_29, left_on = \"key_2\", right_on = \"住居表示\")"
   ]
  },
  {
   "cell_type": "markdown",
   "metadata": {},
   "source": [
    "## merged_2の概要を表示"
   ]
  },
  {
   "cell_type": "code",
   "execution_count": 12,
   "metadata": {},
   "outputs": [
    {
     "name": "stdout",
     "output_type": "stream",
     "text": [
      "<class 'pandas.core.frame.DataFrame'>\n",
      "Int64Index: 14288 entries, 0 to 14287\n",
      "Columns: 170 entries, 標準地番号（都道府県市区町村コード） to 属性移動Ｈ２９\n",
      "dtypes: bool(1), float64(3), int64(129), object(37)\n",
      "memory usage: 18.5+ MB\n"
     ]
    }
   ],
   "source": [
    "merged_2.info()"
   ]
  },
  {
   "cell_type": "markdown",
   "metadata": {},
   "source": [
    "## merged_1とmerged_2を縦方向に連結(concat)"
   ]
  },
  {
   "cell_type": "code",
   "execution_count": 13,
   "metadata": {
    "collapsed": true
   },
   "outputs": [],
   "source": [
    "merged_3 = pd.concat([merged_1, merged_2])"
   ]
  },
  {
   "cell_type": "markdown",
   "metadata": {},
   "source": [
    "## merged_3の概要を表示"
   ]
  },
  {
   "cell_type": "code",
   "execution_count": 14,
   "metadata": {},
   "outputs": [
    {
     "name": "stdout",
     "output_type": "stream",
     "text": [
      "<class 'pandas.core.frame.DataFrame'>\n",
      "Int64Index: 25580 entries, 0 to 14287\n",
      "Columns: 170 entries, 標準地番号（都道府県市区町村コード） to 属性移動Ｈ２９\n",
      "dtypes: bool(1), float64(3), int64(129), object(37)\n",
      "memory usage: 33.2+ MB\n"
     ]
    }
   ],
   "source": [
    "merged_3.info()"
   ]
  },
  {
   "cell_type": "markdown",
   "metadata": {},
   "source": [
    "## 緯度経度データを秒から度（１０進法）に変換\n",
    "/3600"
   ]
  },
  {
   "cell_type": "code",
   "execution_count": 15,
   "metadata": {
    "collapsed": true
   },
   "outputs": [],
   "source": [
    "merged_3[\"lon\"] = merged_3.経度/3600\n",
    "merged_3[\"lat\"] = merged_3.緯度/3600"
   ]
  },
  {
   "cell_type": "markdown",
   "metadata": {},
   "source": [
    "## merged_3の概要を表示"
   ]
  },
  {
   "cell_type": "code",
   "execution_count": 16,
   "metadata": {},
   "outputs": [
    {
     "name": "stdout",
     "output_type": "stream",
     "text": [
      "<class 'pandas.core.frame.DataFrame'>\n",
      "Int64Index: 25580 entries, 0 to 14287\n",
      "Columns: 172 entries, 標準地番号（都道府県市区町村コード） to lat\n",
      "dtypes: bool(1), float64(5), int64(129), object(37)\n",
      "memory usage: 33.6+ MB\n"
     ]
    }
   ],
   "source": [
    "merged_3.info()"
   ]
  },
  {
   "cell_type": "markdown",
   "metadata": {},
   "source": [
    "## merged_3をcsvに吐き出す(merged_final.csv)"
   ]
  },
  {
   "cell_type": "code",
   "execution_count": 17,
   "metadata": {
    "collapsed": true
   },
   "outputs": [],
   "source": [
    "merged_3.to_csv(\"merged_final.csv\", encoding='Shift_JISx0213')"
   ]
  }
 ],
 "metadata": {
  "kernelspec": {
   "display_name": "Python 3",
   "language": "python",
   "name": "python3"
  },
  "language_info": {
   "codemirror_mode": {
    "name": "ipython",
    "version": 3
   },
   "file_extension": ".py",
   "mimetype": "text/x-python",
   "name": "python",
   "nbconvert_exporter": "python",
   "pygments_lexer": "ipython3",
   "version": "3.6.3"
  }
 },
 "nbformat": 4,
 "nbformat_minor": 2
}
